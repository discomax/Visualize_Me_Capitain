{
 "cells": [
  {
   "cell_type": "code",
   "execution_count": 1,
   "metadata": {},
   "outputs": [],
   "source": [
    "import pandas as pd\n"
   ]
  },
  {
   "cell_type": "code",
   "execution_count": 2,
   "metadata": {},
   "outputs": [
    {
     "data": {
      "text/plain": [
       "id                       299\n",
       "name                     299\n",
       "categories/0/title       299\n",
       "rating                   299\n",
       "coordinates/latitude     299\n",
       "coordinates/longitude    299\n",
       "price                    299\n",
       "location/address1        299\n",
       "location/city            299\n",
       "location/zip_code        299\n",
       "dtype: int64"
      ]
     },
     "execution_count": 2,
     "metadata": {},
     "output_type": "execute_result"
    }
   ],
   "source": [
    "#rest_df = pd.read_excel(\"../CharYelp.xlsx\", encoding=\"ISO-8859-1\")\n",
    "#rest_df = rest_df[[\"Restaurant ID\",\"Restaurant Name\", \"City\", \"Country Code\", \"Longitude\", \"Latitude\", \"Cuisines\", \"Price range\", \"Average Cost for two\",\"Aggregate rating\", \"Rating color\", \"Rating text\", \"Votes\"]]\n",
    "\n",
    "rest_df = pd.read_excel(\"CharYelp.xlsx\")\n",
    "#rest_df[\"Country Code\"] == 216\n",
    "#rest_df = rest_df.loc[rest_df[\"Country Code\"] == 216, :]\n",
    "\n",
    "#rest_df = rest_df.dropna(how='any')\n",
    "#rest_df.count()\n",
    "rest_df = rest_df[[\"id\", \"name\", \"categories/0/title\", \"rating\", \"coordinates/latitude\", \"coordinates/longitude\", \"price\", \"location/address1\", \"location/city\", \"location/zip_code\"]]\n",
    "rest_df = rest_df.dropna(how='any')\n",
    "rest_df.count()"
   ]
  },
  {
   "cell_type": "code",
   "execution_count": 3,
   "metadata": {},
   "outputs": [
    {
     "data": {
      "text/plain": [
       "id                       299\n",
       "name                     299\n",
       "categories/0/title       299\n",
       "rating                   299\n",
       "coordinates/latitude     299\n",
       "coordinates/longitude    299\n",
       "price                    299\n",
       "location/address1        299\n",
       "location/city            299\n",
       "location/zip_code        299\n",
       "dtype: int64"
      ]
     },
     "execution_count": 3,
     "metadata": {},
     "output_type": "execute_result"
    }
   ],
   "source": [
    "rest_df.count()"
   ]
  },
  {
   "cell_type": "code",
   "execution_count": 4,
   "metadata": {},
   "outputs": [
    {
     "data": {
      "text/plain": [
       "Index(['id', 'name', 'categories/0/title', 'rating', 'coordinates/latitude',\n",
       "       'coordinates/longitude', 'price', 'location/address1', 'location/city',\n",
       "       'location/zip_code'],\n",
       "      dtype='object')"
      ]
     },
     "execution_count": 4,
     "metadata": {},
     "output_type": "execute_result"
    }
   ],
   "source": [
    "rest_df.columns"
   ]
  },
  {
   "cell_type": "code",
   "execution_count": 7,
   "metadata": {},
   "outputs": [],
   "source": [
    "Restdf = rest_df.rename(columns={\"categories/0/title\":\"type\", \"coordinates/latitude\":\"lat\", \n",
    "                                 \"coordinates/longitude\":\"long\", \"location/address1\":\"address\", \"location/city\":\"city\", \"location/zip_code\":\"zip\"})"
   ]
  },
  {
   "cell_type": "code",
   "execution_count": 9,
   "metadata": {},
   "outputs": [
    {
     "data": {
      "text/html": [
       "<div>\n",
       "<style scoped>\n",
       "    .dataframe tbody tr th:only-of-type {\n",
       "        vertical-align: middle;\n",
       "    }\n",
       "\n",
       "    .dataframe tbody tr th {\n",
       "        vertical-align: top;\n",
       "    }\n",
       "\n",
       "    .dataframe thead th {\n",
       "        text-align: right;\n",
       "    }\n",
       "</style>\n",
       "<table border=\"1\" class=\"dataframe\">\n",
       "  <thead>\n",
       "    <tr style=\"text-align: right;\">\n",
       "      <th></th>\n",
       "      <th>id</th>\n",
       "      <th>name</th>\n",
       "      <th>type</th>\n",
       "      <th>rating</th>\n",
       "      <th>lat</th>\n",
       "      <th>long</th>\n",
       "      <th>price</th>\n",
       "      <th>address</th>\n",
       "      <th>city</th>\n",
       "      <th>zip</th>\n",
       "    </tr>\n",
       "  </thead>\n",
       "  <tbody>\n",
       "    <tr>\n",
       "      <th>0</th>\n",
       "      <td>yrUDeng1LrDvgyyjI5GiHA</td>\n",
       "      <td>Pho Quynh</td>\n",
       "      <td>Vietnamese</td>\n",
       "      <td>4.5</td>\n",
       "      <td>35.211296</td>\n",
       "      <td>-80.761337</td>\n",
       "      <td>$$</td>\n",
       "      <td>4900 Central Ave</td>\n",
       "      <td>Charlotte</td>\n",
       "      <td>28205</td>\n",
       "    </tr>\n",
       "    <tr>\n",
       "      <th>1</th>\n",
       "      <td>PqcOSnCsJTT9Yd2xWKIMWw</td>\n",
       "      <td>La Shish Kabob</td>\n",
       "      <td>Middle Eastern</td>\n",
       "      <td>4.5</td>\n",
       "      <td>35.203300</td>\n",
       "      <td>-80.760435</td>\n",
       "      <td>$</td>\n",
       "      <td>3117-A N Sharon Amity</td>\n",
       "      <td>Charlotte</td>\n",
       "      <td>28205</td>\n",
       "    </tr>\n",
       "    <tr>\n",
       "      <th>2</th>\n",
       "      <td>LdhprCGxa0inFo5P812EIg</td>\n",
       "      <td>Loft &amp; Cellar</td>\n",
       "      <td>Cocktail Bars</td>\n",
       "      <td>3.5</td>\n",
       "      <td>35.228204</td>\n",
       "      <td>-80.846499</td>\n",
       "      <td>$$</td>\n",
       "      <td>305 W 4th St</td>\n",
       "      <td>Charlotte</td>\n",
       "      <td>28202</td>\n",
       "    </tr>\n",
       "    <tr>\n",
       "      <th>3</th>\n",
       "      <td>VH3WA7a-OVzFj2K_SP4BIw</td>\n",
       "      <td>The King's Kitchen</td>\n",
       "      <td>American (Traditional)</td>\n",
       "      <td>4.0</td>\n",
       "      <td>35.228010</td>\n",
       "      <td>-80.844256</td>\n",
       "      <td>$$</td>\n",
       "      <td>129 W Trade St</td>\n",
       "      <td>Charlotte</td>\n",
       "      <td>28202</td>\n",
       "    </tr>\n",
       "    <tr>\n",
       "      <th>4</th>\n",
       "      <td>trAd97ig2agtkZl2cimOMQ</td>\n",
       "      <td>Something Classic Cafe</td>\n",
       "      <td>American (New)</td>\n",
       "      <td>4.0</td>\n",
       "      <td>35.228220</td>\n",
       "      <td>-80.840990</td>\n",
       "      <td>$</td>\n",
       "      <td>220 N Tryon St</td>\n",
       "      <td>Charlotte</td>\n",
       "      <td>28263</td>\n",
       "    </tr>\n",
       "  </tbody>\n",
       "</table>\n",
       "</div>"
      ],
      "text/plain": [
       "                       id                    name                    type  \\\n",
       "0  yrUDeng1LrDvgyyjI5GiHA               Pho Quynh              Vietnamese   \n",
       "1  PqcOSnCsJTT9Yd2xWKIMWw          La Shish Kabob          Middle Eastern   \n",
       "2  LdhprCGxa0inFo5P812EIg           Loft & Cellar           Cocktail Bars   \n",
       "3  VH3WA7a-OVzFj2K_SP4BIw      The King's Kitchen  American (Traditional)   \n",
       "4  trAd97ig2agtkZl2cimOMQ  Something Classic Cafe          American (New)   \n",
       "\n",
       "   rating        lat       long price                address       city    zip  \n",
       "0     4.5  35.211296 -80.761337    $$       4900 Central Ave  Charlotte  28205  \n",
       "1     4.5  35.203300 -80.760435     $  3117-A N Sharon Amity  Charlotte  28205  \n",
       "2     3.5  35.228204 -80.846499    $$           305 W 4th St  Charlotte  28202  \n",
       "3     4.0  35.228010 -80.844256    $$         129 W Trade St  Charlotte  28202  \n",
       "4     4.0  35.228220 -80.840990     $         220 N Tryon St  Charlotte  28263  "
      ]
     },
     "execution_count": 9,
     "metadata": {},
     "output_type": "execute_result"
    }
   ],
   "source": [
    "Restdf.head()"
   ]
  },
  {
   "cell_type": "code",
   "execution_count": 10,
   "metadata": {},
   "outputs": [],
   "source": [
    "Restdf.to_csv(\"Rest_df.csv\", index=False, header=True)"
   ]
  },
  {
   "cell_type": "code",
   "execution_count": null,
   "metadata": {},
   "outputs": [],
   "source": []
  }
 ],
 "metadata": {
  "kernelspec": {
   "display_name": "Python 3",
   "language": "python",
   "name": "python3"
  },
  "language_info": {
   "codemirror_mode": {
    "name": "ipython",
    "version": 3
   },
   "file_extension": ".py",
   "mimetype": "text/x-python",
   "name": "python",
   "nbconvert_exporter": "python",
   "pygments_lexer": "ipython3",
   "version": "3.6.6"
  }
 },
 "nbformat": 4,
 "nbformat_minor": 2
}
