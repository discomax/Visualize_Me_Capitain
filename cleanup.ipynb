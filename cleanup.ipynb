{
 "cells": [
  {
   "cell_type": "code",
   "execution_count": 3,
   "metadata": {},
   "outputs": [],
   "source": [
    "import pandas as pd\n"
   ]
  },
  {
   "cell_type": "code",
   "execution_count": 29,
   "metadata": {},
   "outputs": [
    {
     "data": {
      "text/plain": [
       "Restaurant ID           425\n",
       "Restaurant Name         425\n",
       "City                    425\n",
       "Country Code            425\n",
       "Longitude               425\n",
       "Latitude                425\n",
       "Cuisines                425\n",
       "Price range             425\n",
       "Average Cost for two    425\n",
       "Aggregate rating        425\n",
       "Rating color            425\n",
       "Rating text             425\n",
       "Votes                   425\n",
       "dtype: int64"
      ]
     },
     "execution_count": 29,
     "metadata": {},
     "output_type": "execute_result"
    }
   ],
   "source": [
    "rest_df = pd.read_csv(\"Visualize_Me_Capitain/zomato.csv\", encoding=\"ISO-8859-1\")\n",
    "rest_df = rest_df[[\"Restaurant ID\",\"Restaurant Name\", \"City\", \"Country Code\", \"Longitude\", \"Latitude\", \"Cuisines\", \"Price range\", \"Average Cost for two\",\"Aggregate rating\", \"Rating color\", \"Rating text\", \"Votes\"]]\n",
    "\n",
    "\n",
    "rest_df[\"Country Code\"] == 216\n",
    "rest_df = rest_df.loc[rest_df[\"Country Code\"] == 216, :]\n",
    "\n",
    "rest_df = rest_df.dropna(how='any')\n",
    "rest_df.count()\n"
   ]
  }
 ],
 "metadata": {
  "kernelspec": {
   "display_name": "Python 3",
   "language": "python",
   "name": "python3"
  },
  "language_info": {
   "codemirror_mode": {
    "name": "ipython",
    "version": 3
   },
   "file_extension": ".py",
   "mimetype": "text/x-python",
   "name": "python",
   "nbconvert_exporter": "python",
   "pygments_lexer": "ipython3",
   "version": "3.7.2"
  }
 },
 "nbformat": 4,
 "nbformat_minor": 2
}
