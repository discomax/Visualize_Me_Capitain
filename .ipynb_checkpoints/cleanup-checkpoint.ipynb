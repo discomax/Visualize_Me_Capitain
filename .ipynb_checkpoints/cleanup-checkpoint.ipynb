{
 "cells": [
  {
   "cell_type": "code",
   "execution_count": 1,
   "metadata": {},
   "outputs": [],
   "source": [
    "import pandas as pd\n"
   ]
  },
  {
   "cell_type": "code",
   "execution_count": 2,
   "metadata": {},
   "outputs": [
    {
     "data": {
      "text/plain": [
       "id                       299\n",
       "name                     299\n",
       "categories/0/title       299\n",
       "rating                   299\n",
       "coordinates/latitude     299\n",
       "coordinates/longitude    299\n",
       "price                    299\n",
       "location/address1        299\n",
       "location/city            299\n",
       "location/zip_code        299\n",
       "dtype: int64"
      ]
     },
     "execution_count": 2,
     "metadata": {},
     "output_type": "execute_result"
    }
   ],
   "source": [
    "#rest_df = pd.read_excel(\"../CharYelp.xlsx\", encoding=\"ISO-8859-1\")\n",
    "#rest_df = rest_df[[\"Restaurant ID\",\"Restaurant Name\", \"City\", \"Country Code\", \"Longitude\", \"Latitude\", \"Cuisines\", \"Price range\", \"Average Cost for two\",\"Aggregate rating\", \"Rating color\", \"Rating text\", \"Votes\"]]\n",
    "\n",
    "rest_df = pd.read_excel(\"CharYelp.xlsx\")\n",
    "#rest_df[\"Country Code\"] == 216\n",
    "#rest_df = rest_df.loc[rest_df[\"Country Code\"] == 216, :]\n",
    "\n",
    "#rest_df = rest_df.dropna(how='any')\n",
    "#rest_df.count()\n",
    "rest_df = rest_df[[\"id\", \"name\", \"categories/0/title\", \"rating\", \"coordinates/latitude\", \"coordinates/longitude\", \"price\", \"location/address1\", \"location/city\", \"location/zip_code\"]]\n",
    "rest_df = rest_df.dropna(how='any')\n",
    "rest_df.count()"
   ]
  },
  {
   "cell_type": "code",
   "execution_count": 3,
   "metadata": {},
   "outputs": [
    {
     "data": {
      "text/plain": [
       "id                       299\n",
       "name                     299\n",
       "categories/0/title       299\n",
       "rating                   299\n",
       "coordinates/latitude     299\n",
       "coordinates/longitude    299\n",
       "price                    299\n",
       "location/address1        299\n",
       "location/city            299\n",
       "location/zip_code        299\n",
       "dtype: int64"
      ]
     },
     "execution_count": 3,
     "metadata": {},
     "output_type": "execute_result"
    }
   ],
   "source": [
    "rest_df.count()"
   ]
  }
 ],
 "metadata": {
  "kernelspec": {
   "display_name": "Python 3",
   "language": "python",
   "name": "python3"
  },
  "language_info": {
   "codemirror_mode": {
    "name": "ipython",
    "version": 3
   },
   "file_extension": ".py",
   "mimetype": "text/x-python",
   "name": "python",
   "nbconvert_exporter": "python",
   "pygments_lexer": "ipython3",
   "version": "3.7.2"
  }
 },
 "nbformat": 4,
 "nbformat_minor": 2
}
